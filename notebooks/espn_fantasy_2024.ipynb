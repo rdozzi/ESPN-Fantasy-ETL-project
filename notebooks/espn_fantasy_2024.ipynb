{
 "cells": [
  {
   "cell_type": "code",
   "execution_count": 43,
   "id": "830bc9ee",
   "metadata": {},
   "outputs": [
    {
     "data": {
      "text/plain": [
       "True"
      ]
     },
     "execution_count": 43,
     "metadata": {},
     "output_type": "execute_result"
    }
   ],
   "source": [
    "import pandas as pd\n",
    "import espn_api\n",
    "import os\n",
    "from dotenv import load_dotenv\n",
    "from espn_api.football import League\n",
    "\n",
    "\n",
    "load_dotenv()\n",
    "\n"
   ]
  },
  {
   "cell_type": "code",
   "execution_count": 44,
   "id": "df7109a8",
   "metadata": {},
   "outputs": [
    {
     "name": "stdout",
     "output_type": "stream",
     "text": [
      "582924\n",
      "2024\n",
      "AEA80I6JzZ%2F7RCxCSHl5WLd%2Bsvc7Xhs27An2hd4%2F1SSpMaMecJ6pq65wMTxW4AkykUz3MYAiBUBPM4IeLvlCfw4XBVJNSF96ilC4QnmIfLz9kJqsVNKNsqcOKR%2BdF0yjOdUWrmrT5EYJOxiho21V7NhB5qKxo5hyfagAQnEVP6GwZwbi9plSPWSuhxFEy%2FFm6eL1VgVnqTl1riAjrWyRo1zTBzGfrjgR1Oh%2B%2FEzHp%2FRAFHmy%2F0pAbsBzZtNU1DfWX%2FslmvtSRyg0yU8KLeOnuafM\n",
      "{8771E5F0-2C1B-423A-AC82-A42344F84FDB}\n"
     ]
    }
   ],
   "source": [
    "print(os.getenv(\"LEAGUE_ID\"))\n",
    "print(2024)\n",
    "print(os.getenv(\"ESPN_S2\"))\n",
    "print(os.getenv(\"SWID\"))"
   ]
  },
  {
   "cell_type": "code",
   "execution_count": 3,
   "id": "384789d0",
   "metadata": {},
   "outputs": [],
   "source": [
    "league2024 = League(league_id=int(os.getenv(\"LEAGUE_ID\")), year=2024, espn_s2=os.getenv(\"ESPN_S2\"), swid=os.getenv(\"SWID\"))\n",
    "league2024.refresh()"
   ]
  },
  {
   "cell_type": "code",
   "execution_count": 4,
   "id": "4b32a717",
   "metadata": {},
   "outputs": [
    {
     "name": "stdout",
     "output_type": "stream",
     "text": [
      "[Team(Hos'er Daddy), Team(Los Cocineros), Team(Purdy Commish), Team(xxx360NoScope420BlazeItxxx), Team(Sailor Jupiter Fan Club), Team(Fond O' Naps), Team(Biz-Caj Tanktop), Team(The Tortured Welfare Department), Team(San Francisco Cyber Plebz), Team(USA TCupz Dozzer), Team(LA Peezy), Team(SF Sheldors)]\n"
     ]
    },
    {
     "data": {
      "text/plain": [
       "{'defensiveLessThan100YardsAllowed': 0.0,\n",
       " 'defensive100To199YardsAllowed': 2.0,\n",
       " 'defensive200To299YardsAllowed': 6.0,\n",
       " 'passingTouchdowns': 26.0,\n",
       " 'defensive350To399YardsAllowed': 1.0,\n",
       " '5': 728.0,\n",
       " 'defensive400To449YardsAllowed': 2.0,\n",
       " 'defensive450To499YardsAllowed': 0.0,\n",
       " '198': 3.0,\n",
       " 'defensive500To549YardsAllowed': 0.0,\n",
       " 'lostFumbles': 5.0,\n",
       " 'defensive550PlusYardsAllowed': 0.0,\n",
       " 'madeFieldGoalsFrom60Plus': 1.0,\n",
       " 'madeFieldGoalsFrom40To49': 6.0,\n",
       " 'madeFieldGoalsFromUnder40': 20.0,\n",
       " 'passing2PtConversions': 1.0,\n",
       " 'passingInterceptions': 7.0,\n",
       " 'missedFieldGoals': 5.0,\n",
       " 'madeExtraPoints': 43.0,\n",
       " 'rushingYards': 1936.0,\n",
       " 'rushingTouchdowns': 29.0,\n",
       " 'defensive0PointsAllowed': 0.0,\n",
       " 'rushing2PtConversions': 0.0,\n",
       " 'defensive1To6PointsAllowed': 1.0,\n",
       " 'defensive7To13PointsAllowed': 3.0,\n",
       " 'defensive14To17PointsAllowed': 4.0,\n",
       " 'defensiveBlockedKickForTouchdowns': 0.0,\n",
       " 'defensiveInterceptions': 13.0,\n",
       " 'defensiveFumbles': 11.0,\n",
       " 'defensiveBlockedKicks': 1.0,\n",
       " 'defensiveSafeties': 0.0,\n",
       " 'defensiveSacks': 50.0,\n",
       " 'kickoffReturnTouchdowns': 0.0,\n",
       " 'puntReturnTouchdowns': 2.0,\n",
       " 'interceptionReturnTouchdowns': 0.0,\n",
       " 'fumbleReturnTouchdowns': 1.0,\n",
       " 'receivingYards': 5167.0,\n",
       " 'receivingTouchdowns': 27.0,\n",
       " 'receiving2PtConversions': 0.0,\n",
       " 'receivingReceptions': 424.0,\n",
       " 'defensive28To34PointsAllowed': 0.0,\n",
       " 'defensive35To45PointsAllowed': 0.0,\n",
       " 'defensive45PlusPointsAllowed': 0.0,\n",
       " 'fumbleRecoveredForTD': 1.0}"
      ]
     },
     "execution_count": 4,
     "metadata": {},
     "output_type": "execute_result"
    }
   ],
   "source": [
    "teams2024 = league2024.teams\n",
    "print(teams2024)\n",
    "teams2024[0].stats"
   ]
  },
  {
   "cell_type": "code",
   "execution_count": 5,
   "id": "938209c6",
   "metadata": {},
   "outputs": [],
   "source": [
    "# print(teams2024[0])\n",
    "# print(teams2024[0].scores)\n",
    "# print(teams2024[0].owners)"
   ]
  },
  {
   "cell_type": "code",
   "execution_count": 6,
   "id": "af38215f",
   "metadata": {},
   "outputs": [
    {
     "name": "stdout",
     "output_type": "stream",
     "text": [
      "[\"Hos'er Daddy\", 'Los Cocineros', 'Purdy Commish', 'xxx360NoScope420BlazeItxxx', 'Sailor Jupiter Fan Club', \"Fond O' Naps\", 'Biz-Caj Tanktop', 'The Tortured Welfare Department', 'San Francisco Cyber Plebz', 'USA TCupz Dozzer', 'LA Peezy', 'SF Sheldors']\n",
      "['Tim harris', 'Gabe Pannell', 'Brandon Lohmann', 'Eric Harvey', 'Edward Haven', 'Marco Aurelio Benites', 'Geoffrey Harris', 'Dennis Weber', 'Tom Weber', 'Raphael Dozzi', 'Andreas Panosyan', 'Alex E Sheldon']\n"
     ]
    }
   ],
   "source": [
    "teams = []\n",
    "owner = []\n",
    "\n",
    "for i in range(len(league2024.teams)):\n",
    "  teams.append(teams2024[i].team_name)\n",
    "  owner_info = teams2024[i].owners\n",
    "  first_name = owner_info[0]['firstName']\n",
    "  last_name = owner_info[0]['lastName']\n",
    "  owner.append(first_name + \" \" + last_name)\n",
    "\n",
    "print(teams)\n",
    "print(owner)"
   ]
  },
  {
   "cell_type": "code",
   "execution_count": 7,
   "id": "387cb27f",
   "metadata": {},
   "outputs": [
    {
     "name": "stdout",
     "output_type": "stream",
     "text": [
      "scores - Tim [92.5, 117.2, 114.7, 63.0, 112.5, 110.0, 110.8, 110.6, 131.8, 74.9, 127.6, 112.4, 110.5]\n"
     ]
    }
   ],
   "source": [
    "#Generate all scores by team. The output list is that team's score per week\n",
    "all_scores = []\n",
    "\n",
    "for i in range(len(league2024.teams)):\n",
    "  scores_by_team = []\n",
    "  for j in range(13):\n",
    "    scores_by_team.append(teams2024[i].scores[j])\n",
    "  \n",
    "  all_scores.append(scores_by_team)\n",
    "\n",
    "print('scores - Tim', all_scores[0])"
   ]
  },
  {
   "cell_type": "code",
   "execution_count": 8,
   "id": "152b9950",
   "metadata": {},
   "outputs": [],
   "source": [
    "'''\n",
    "Note: \n",
    "For each score:\n",
    "1. Index each score into a tuple\n",
    "2. Sort scores in ascending order by value\n",
    "3. Cut off the top scores and insert the indices into a set\n",
    "4. Take the original scores_by_team set and create the 1/-1 tuple\n",
    "5. Provide that output\n",
    "'''\n",
    "\n",
    "num_weeks = len(all_scores[0])\n",
    "\n",
    "# Accumulator for \n",
    "results = [[] for _ in range(len(league2024.teams))]\n",
    "\n",
    "\n",
    "for week in range(num_weeks):\n",
    "\n",
    "  #Transpose data to score by index of each time for a given week\n",
    "  scores_with_index = [(i,all_scores[i][week]) for i in range(len(league2024.teams))]\n",
    "  # print(scores_with_index)\n",
    "  \n",
    "  #Sort the data by score in ascending order; i.e. index 1\n",
    "  scores_with_index.sort(key = lambda x: x[1], reverse=True)\n",
    "\n",
    "  #Find the indices with the top scores\n",
    "  cutoff = len(scores_with_index) // 2\n",
    "  top_scores = scores_with_index[:cutoff]\n",
    "  top_score_indices = {top_scores[i][0] for i in range(len(top_scores))}\n",
    "\n",
    "  #Rebuild data with handicap\n",
    "  for i in range(len(league2024.teams)):\n",
    "    score = all_scores[i][week]\n",
    "    result = +1 if i in top_score_indices else -1\n",
    "    results[i].append((score,result))"
   ]
  },
  {
   "cell_type": "code",
   "execution_count": 9,
   "id": "54500a2e",
   "metadata": {},
   "outputs": [
    {
     "name": "stdout",
     "output_type": "stream",
     "text": [
      "                    Owner                             Team  Week 1  Week 2  \\\n",
      "0              Tim harris                     Hos'er Daddy    92.5   117.2   \n",
      "1            Gabe Pannell                    Los Cocineros    95.9    76.0   \n",
      "2         Brandon Lohmann                    Purdy Commish   132.6    75.4   \n",
      "3             Eric Harvey       xxx360NoScope420BlazeItxxx    74.6   125.1   \n",
      "4            Edward Haven          Sailor Jupiter Fan Club    83.0   129.3   \n",
      "5   Marco Aurelio Benites                     Fond O' Naps   104.7    76.3   \n",
      "6         Geoffrey Harris                  Biz-Caj Tanktop   121.1   102.3   \n",
      "7            Dennis Weber  The Tortured Welfare Department    96.4   139.8   \n",
      "8               Tom Weber        San Francisco Cyber Plebz   130.4   133.0   \n",
      "9           Raphael Dozzi                 USA TCupz Dozzer    88.6   115.8   \n",
      "10       Andreas Panosyan                         LA Peezy    85.1    89.0   \n",
      "11         Alex E Sheldon                      SF Sheldors   115.3   100.7   \n",
      "\n",
      "    Week 3  Week 4  Week 5  Week 6  Week 7  Week 8  Week 9  Week 10  Week 11  \\\n",
      "0    114.7    63.0   112.5   110.0   110.8   110.6   131.8     74.9    127.6   \n",
      "1    102.6   123.4   121.9    88.0    89.3   109.1    85.6    104.0     90.8   \n",
      "2    120.4   107.6    77.9    99.8   104.0    87.8    76.7     89.2    126.6   \n",
      "3     74.7    89.3   120.0    91.5   113.6   103.9    94.0    103.3    112.5   \n",
      "4     78.7    71.9   141.9    96.8   110.1   111.6    98.7     93.5    115.6   \n",
      "5     95.1    95.3    93.0   142.5    96.9   108.3   120.7     77.9    139.2   \n",
      "6     65.2   101.2   126.8   109.5   100.4   108.2   115.8    107.3     75.8   \n",
      "7    109.3    85.2    67.3    48.9    56.7   143.1   122.8    104.4    114.5   \n",
      "8    103.7   120.3    85.1   130.0    94.4   108.1   100.9     65.5     88.9   \n",
      "9    116.8    98.8    89.8    95.4    59.1   109.4    94.0     67.0     70.9   \n",
      "10   106.9   108.5   121.7   107.7   111.3   120.8   100.7    134.8    110.9   \n",
      "11    90.8   116.0   135.8   139.2    93.2   112.6   134.9    113.3    106.5   \n",
      "\n",
      "    Week 12  Week 13  \n",
      "0     112.4    110.5  \n",
      "1     100.1     85.8  \n",
      "2     128.7    112.7  \n",
      "3     120.5    125.4  \n",
      "4     107.5     97.8  \n",
      "5     116.9    125.5  \n",
      "6     108.9    171.7  \n",
      "7     117.1    108.6  \n",
      "8      90.1     88.3  \n",
      "9      88.3     79.0  \n",
      "10     73.6    104.8  \n",
      "11     90.8    101.3  \n"
     ]
    }
   ],
   "source": [
    "# Original output by team/owner/weekly score\n",
    "df = pd.DataFrame(all_scores,columns=[f\"Week {i+1}\" for i in range(13)])\n",
    "df.insert(0,\"Team\",teams)\n",
    "df.insert(0,\"Owner\",owner)\n",
    "print(df)"
   ]
  },
  {
   "cell_type": "code",
   "execution_count": 10,
   "id": "36208361",
   "metadata": {},
   "outputs": [],
   "source": [
    "# Results \n",
    "df = pd.DataFrame(results,columns=[f\"Week {i+1}\" for i in range(len(results[0]))])\n",
    "df.insert(0,\"Team\",teams)\n",
    "df.insert(0,\"Owner\",owner)\n",
    "\n",
    "# df.to_csv('../data/processed/scores_with_handicap',index=False)\n",
    "# df.to_excel('../data/processed/scores_with_handicap.xlsx')"
   ]
  },
  {
   "cell_type": "code",
   "execution_count": 11,
   "id": "6972e6fa",
   "metadata": {},
   "outputs": [
    {
     "name": "stdout",
     "output_type": "stream",
     "text": [
      "                    Owner                             Team      Week 1  \\\n",
      "0              Tim harris                     Hos'er Daddy  (92.5, -1)   \n",
      "1            Gabe Pannell                    Los Cocineros  (95.9, -1)   \n",
      "2         Brandon Lohmann                    Purdy Commish  (132.6, 1)   \n",
      "3             Eric Harvey       xxx360NoScope420BlazeItxxx  (74.6, -1)   \n",
      "4            Edward Haven          Sailor Jupiter Fan Club  (83.0, -1)   \n",
      "5   Marco Aurelio Benites                     Fond O' Naps  (104.7, 1)   \n",
      "6         Geoffrey Harris                  Biz-Caj Tanktop  (121.1, 1)   \n",
      "7            Dennis Weber  The Tortured Welfare Department   (96.4, 1)   \n",
      "8               Tom Weber        San Francisco Cyber Plebz  (130.4, 1)   \n",
      "9           Raphael Dozzi                 USA TCupz Dozzer  (88.6, -1)   \n",
      "10       Andreas Panosyan                         LA Peezy  (85.1, -1)   \n",
      "11         Alex E Sheldon                      SF Sheldors  (115.3, 1)   \n",
      "\n",
      "         Week 2       Week 3      Week 4       Week 5      Week 6      Week 7  \\\n",
      "0    (117.2, 1)   (114.7, 1)  (63.0, -1)  (112.5, -1)  (110.0, 1)  (110.8, 1)   \n",
      "1    (76.0, -1)  (102.6, -1)  (123.4, 1)   (121.9, 1)  (88.0, -1)  (89.3, -1)   \n",
      "2    (75.4, -1)   (120.4, 1)  (107.6, 1)   (77.9, -1)  (99.8, -1)  (104.0, 1)   \n",
      "3    (125.1, 1)   (74.7, -1)  (89.3, -1)   (120.0, 1)  (91.5, -1)  (113.6, 1)   \n",
      "4    (129.3, 1)   (78.7, -1)  (71.9, -1)   (141.9, 1)  (96.8, -1)  (110.1, 1)   \n",
      "5    (76.3, -1)   (95.1, -1)  (95.3, -1)   (93.0, -1)  (142.5, 1)  (96.9, -1)   \n",
      "6   (102.3, -1)   (65.2, -1)  (101.2, 1)   (126.8, 1)  (109.5, 1)  (100.4, 1)   \n",
      "7    (139.8, 1)   (109.3, 1)  (85.2, -1)   (67.3, -1)  (48.9, -1)  (56.7, -1)   \n",
      "8    (133.0, 1)   (103.7, 1)  (120.3, 1)   (85.1, -1)  (130.0, 1)  (94.4, -1)   \n",
      "9    (115.8, 1)   (116.8, 1)  (98.8, -1)   (89.8, -1)  (95.4, -1)  (59.1, -1)   \n",
      "10   (89.0, -1)   (106.9, 1)  (108.5, 1)   (121.7, 1)  (107.7, 1)  (111.3, 1)   \n",
      "11  (100.7, -1)   (90.8, -1)  (116.0, 1)   (135.8, 1)  (139.2, 1)  (93.2, -1)   \n",
      "\n",
      "         Week 8       Week 9     Week 10      Week 11      Week 12  \\\n",
      "0    (110.6, 1)   (131.8, 1)  (74.9, -1)   (127.6, 1)   (112.4, 1)   \n",
      "1   (109.1, -1)   (85.6, -1)  (104.0, 1)   (90.8, -1)  (100.1, -1)   \n",
      "2    (87.8, -1)   (76.7, -1)  (89.2, -1)   (126.6, 1)   (128.7, 1)   \n",
      "3   (103.9, -1)   (94.0, -1)  (103.3, 1)   (112.5, 1)   (120.5, 1)   \n",
      "4    (111.6, 1)   (98.7, -1)  (93.5, -1)   (115.6, 1)  (107.5, -1)   \n",
      "5   (108.3, -1)   (120.7, 1)  (77.9, -1)   (139.2, 1)   (116.9, 1)   \n",
      "6   (108.2, -1)   (115.8, 1)  (107.3, 1)   (75.8, -1)   (108.9, 1)   \n",
      "7    (143.1, 1)   (122.8, 1)  (104.4, 1)   (114.5, 1)   (117.1, 1)   \n",
      "8   (108.1, -1)   (100.9, 1)  (65.5, -1)   (88.9, -1)   (90.1, -1)   \n",
      "9    (109.4, 1)   (94.0, -1)  (67.0, -1)   (70.9, -1)   (88.3, -1)   \n",
      "10   (120.8, 1)  (100.7, -1)  (134.8, 1)  (110.9, -1)   (73.6, -1)   \n",
      "11   (112.6, 1)   (134.9, 1)  (113.3, 1)  (106.5, -1)   (90.8, -1)   \n",
      "\n",
      "        Week 13  \n",
      "0    (110.5, 1)  \n",
      "1    (85.8, -1)  \n",
      "2    (112.7, 1)  \n",
      "3    (125.4, 1)  \n",
      "4    (97.8, -1)  \n",
      "5    (125.5, 1)  \n",
      "6    (171.7, 1)  \n",
      "7    (108.6, 1)  \n",
      "8    (88.3, -1)  \n",
      "9    (79.0, -1)  \n",
      "10  (104.8, -1)  \n",
      "11  (101.3, -1)  \n"
     ]
    }
   ],
   "source": [
    "print(df)"
   ]
  },
  {
   "cell_type": "code",
   "execution_count": 12,
   "id": "8a477437",
   "metadata": {},
   "outputs": [
    {
     "name": "stdout",
     "output_type": "stream",
     "text": [
      "[9, 3, 7, 7, 5, 6, 9, 9, 6, 3, 7, 7]\n",
      "[4, 10, 6, 6, 8, 7, 4, 4, 7, 10, 6, 6]\n"
     ]
    }
   ],
   "source": [
    "wins_adj =[sum(1 for _,r in row if r == 1) for row in results]\n",
    "losses_adj = [sum(1 for _,r in row if r == -1) for row in results]\n",
    "\n",
    "print(wins_adj)\n",
    "print(losses_adj)"
   ]
  },
  {
   "cell_type": "code",
   "execution_count": 13,
   "id": "6d5b267a",
   "metadata": {},
   "outputs": [
    {
     "name": "stdout",
     "output_type": "stream",
     "text": [
      "                    Owner                             Team      Week 1  \\\n",
      "0              Tim harris                     Hos'er Daddy  (92.5, -1)   \n",
      "1            Gabe Pannell                    Los Cocineros  (95.9, -1)   \n",
      "2         Brandon Lohmann                    Purdy Commish  (132.6, 1)   \n",
      "3             Eric Harvey       xxx360NoScope420BlazeItxxx  (74.6, -1)   \n",
      "4            Edward Haven          Sailor Jupiter Fan Club  (83.0, -1)   \n",
      "5   Marco Aurelio Benites                     Fond O' Naps  (104.7, 1)   \n",
      "6         Geoffrey Harris                  Biz-Caj Tanktop  (121.1, 1)   \n",
      "7            Dennis Weber  The Tortured Welfare Department   (96.4, 1)   \n",
      "8               Tom Weber        San Francisco Cyber Plebz  (130.4, 1)   \n",
      "9           Raphael Dozzi                 USA TCupz Dozzer  (88.6, -1)   \n",
      "10       Andreas Panosyan                         LA Peezy  (85.1, -1)   \n",
      "11         Alex E Sheldon                      SF Sheldors  (115.3, 1)   \n",
      "\n",
      "         Week 2       Week 3      Week 4       Week 5      Week 6      Week 7  \\\n",
      "0    (117.2, 1)   (114.7, 1)  (63.0, -1)  (112.5, -1)  (110.0, 1)  (110.8, 1)   \n",
      "1    (76.0, -1)  (102.6, -1)  (123.4, 1)   (121.9, 1)  (88.0, -1)  (89.3, -1)   \n",
      "2    (75.4, -1)   (120.4, 1)  (107.6, 1)   (77.9, -1)  (99.8, -1)  (104.0, 1)   \n",
      "3    (125.1, 1)   (74.7, -1)  (89.3, -1)   (120.0, 1)  (91.5, -1)  (113.6, 1)   \n",
      "4    (129.3, 1)   (78.7, -1)  (71.9, -1)   (141.9, 1)  (96.8, -1)  (110.1, 1)   \n",
      "5    (76.3, -1)   (95.1, -1)  (95.3, -1)   (93.0, -1)  (142.5, 1)  (96.9, -1)   \n",
      "6   (102.3, -1)   (65.2, -1)  (101.2, 1)   (126.8, 1)  (109.5, 1)  (100.4, 1)   \n",
      "7    (139.8, 1)   (109.3, 1)  (85.2, -1)   (67.3, -1)  (48.9, -1)  (56.7, -1)   \n",
      "8    (133.0, 1)   (103.7, 1)  (120.3, 1)   (85.1, -1)  (130.0, 1)  (94.4, -1)   \n",
      "9    (115.8, 1)   (116.8, 1)  (98.8, -1)   (89.8, -1)  (95.4, -1)  (59.1, -1)   \n",
      "10   (89.0, -1)   (106.9, 1)  (108.5, 1)   (121.7, 1)  (107.7, 1)  (111.3, 1)   \n",
      "11  (100.7, -1)   (90.8, -1)  (116.0, 1)   (135.8, 1)  (139.2, 1)  (93.2, -1)   \n",
      "\n",
      "         Week 8       Week 9     Week 10      Week 11      Week 12  \\\n",
      "0    (110.6, 1)   (131.8, 1)  (74.9, -1)   (127.6, 1)   (112.4, 1)   \n",
      "1   (109.1, -1)   (85.6, -1)  (104.0, 1)   (90.8, -1)  (100.1, -1)   \n",
      "2    (87.8, -1)   (76.7, -1)  (89.2, -1)   (126.6, 1)   (128.7, 1)   \n",
      "3   (103.9, -1)   (94.0, -1)  (103.3, 1)   (112.5, 1)   (120.5, 1)   \n",
      "4    (111.6, 1)   (98.7, -1)  (93.5, -1)   (115.6, 1)  (107.5, -1)   \n",
      "5   (108.3, -1)   (120.7, 1)  (77.9, -1)   (139.2, 1)   (116.9, 1)   \n",
      "6   (108.2, -1)   (115.8, 1)  (107.3, 1)   (75.8, -1)   (108.9, 1)   \n",
      "7    (143.1, 1)   (122.8, 1)  (104.4, 1)   (114.5, 1)   (117.1, 1)   \n",
      "8   (108.1, -1)   (100.9, 1)  (65.5, -1)   (88.9, -1)   (90.1, -1)   \n",
      "9    (109.4, 1)   (94.0, -1)  (67.0, -1)   (70.9, -1)   (88.3, -1)   \n",
      "10   (120.8, 1)  (100.7, -1)  (134.8, 1)  (110.9, -1)   (73.6, -1)   \n",
      "11   (112.6, 1)   (134.9, 1)  (113.3, 1)  (106.5, -1)   (90.8, -1)   \n",
      "\n",
      "        Week 13  +   -  \n",
      "0    (110.5, 1)  9   4  \n",
      "1    (85.8, -1)  3  10  \n",
      "2    (112.7, 1)  7   6  \n",
      "3    (125.4, 1)  7   6  \n",
      "4    (97.8, -1)  5   8  \n",
      "5    (125.5, 1)  6   7  \n",
      "6    (171.7, 1)  9   4  \n",
      "7    (108.6, 1)  9   4  \n",
      "8    (88.3, -1)  6   7  \n",
      "9    (79.0, -1)  3  10  \n",
      "10  (104.8, -1)  7   6  \n",
      "11  (101.3, -1)  7   6  \n"
     ]
    }
   ],
   "source": [
    "df[\"+\"]=wins_adj\n",
    "df[\"-\"]=losses_adj\n",
    "print(df)"
   ]
  },
  {
   "cell_type": "code",
   "execution_count": 14,
   "id": "ffaf5e4d",
   "metadata": {},
   "outputs": [
    {
     "name": "stdout",
     "output_type": "stream",
     "text": [
      "[10, 5, 7, 7, 7, 9, 5, 9, 8, 3, 7, 7]\n",
      "[4, 9, 7, 7, 7, 5, 9, 5, 6, 11, 7, 7]\n"
     ]
    }
   ],
   "source": [
    "wins = []\n",
    "losses = []\n",
    "\n",
    "for i in range(len(teams2024)):\n",
    "  wins.append(teams2024[i].wins)\n",
    "  losses.append(teams2024[i].losses)\n",
    "\n",
    "print(wins)\n",
    "print(losses)"
   ]
  },
  {
   "cell_type": "code",
   "execution_count": 15,
   "id": "da9f7536",
   "metadata": {},
   "outputs": [
    {
     "name": "stdout",
     "output_type": "stream",
     "text": [
      "                    Owner                             Team      Week 1  \\\n",
      "0              Tim harris                     Hos'er Daddy  (92.5, -1)   \n",
      "1            Gabe Pannell                    Los Cocineros  (95.9, -1)   \n",
      "2         Brandon Lohmann                    Purdy Commish  (132.6, 1)   \n",
      "3             Eric Harvey       xxx360NoScope420BlazeItxxx  (74.6, -1)   \n",
      "4            Edward Haven          Sailor Jupiter Fan Club  (83.0, -1)   \n",
      "5   Marco Aurelio Benites                     Fond O' Naps  (104.7, 1)   \n",
      "6         Geoffrey Harris                  Biz-Caj Tanktop  (121.1, 1)   \n",
      "7            Dennis Weber  The Tortured Welfare Department   (96.4, 1)   \n",
      "8               Tom Weber        San Francisco Cyber Plebz  (130.4, 1)   \n",
      "9           Raphael Dozzi                 USA TCupz Dozzer  (88.6, -1)   \n",
      "10       Andreas Panosyan                         LA Peezy  (85.1, -1)   \n",
      "11         Alex E Sheldon                      SF Sheldors  (115.3, 1)   \n",
      "\n",
      "         Week 2       Week 3      Week 4       Week 5      Week 6      Week 7  \\\n",
      "0    (117.2, 1)   (114.7, 1)  (63.0, -1)  (112.5, -1)  (110.0, 1)  (110.8, 1)   \n",
      "1    (76.0, -1)  (102.6, -1)  (123.4, 1)   (121.9, 1)  (88.0, -1)  (89.3, -1)   \n",
      "2    (75.4, -1)   (120.4, 1)  (107.6, 1)   (77.9, -1)  (99.8, -1)  (104.0, 1)   \n",
      "3    (125.1, 1)   (74.7, -1)  (89.3, -1)   (120.0, 1)  (91.5, -1)  (113.6, 1)   \n",
      "4    (129.3, 1)   (78.7, -1)  (71.9, -1)   (141.9, 1)  (96.8, -1)  (110.1, 1)   \n",
      "5    (76.3, -1)   (95.1, -1)  (95.3, -1)   (93.0, -1)  (142.5, 1)  (96.9, -1)   \n",
      "6   (102.3, -1)   (65.2, -1)  (101.2, 1)   (126.8, 1)  (109.5, 1)  (100.4, 1)   \n",
      "7    (139.8, 1)   (109.3, 1)  (85.2, -1)   (67.3, -1)  (48.9, -1)  (56.7, -1)   \n",
      "8    (133.0, 1)   (103.7, 1)  (120.3, 1)   (85.1, -1)  (130.0, 1)  (94.4, -1)   \n",
      "9    (115.8, 1)   (116.8, 1)  (98.8, -1)   (89.8, -1)  (95.4, -1)  (59.1, -1)   \n",
      "10   (89.0, -1)   (106.9, 1)  (108.5, 1)   (121.7, 1)  (107.7, 1)  (111.3, 1)   \n",
      "11  (100.7, -1)   (90.8, -1)  (116.0, 1)   (135.8, 1)  (139.2, 1)  (93.2, -1)   \n",
      "\n",
      "         Week 8       Week 9     Week 10      Week 11      Week 12  \\\n",
      "0    (110.6, 1)   (131.8, 1)  (74.9, -1)   (127.6, 1)   (112.4, 1)   \n",
      "1   (109.1, -1)   (85.6, -1)  (104.0, 1)   (90.8, -1)  (100.1, -1)   \n",
      "2    (87.8, -1)   (76.7, -1)  (89.2, -1)   (126.6, 1)   (128.7, 1)   \n",
      "3   (103.9, -1)   (94.0, -1)  (103.3, 1)   (112.5, 1)   (120.5, 1)   \n",
      "4    (111.6, 1)   (98.7, -1)  (93.5, -1)   (115.6, 1)  (107.5, -1)   \n",
      "5   (108.3, -1)   (120.7, 1)  (77.9, -1)   (139.2, 1)   (116.9, 1)   \n",
      "6   (108.2, -1)   (115.8, 1)  (107.3, 1)   (75.8, -1)   (108.9, 1)   \n",
      "7    (143.1, 1)   (122.8, 1)  (104.4, 1)   (114.5, 1)   (117.1, 1)   \n",
      "8   (108.1, -1)   (100.9, 1)  (65.5, -1)   (88.9, -1)   (90.1, -1)   \n",
      "9    (109.4, 1)   (94.0, -1)  (67.0, -1)   (70.9, -1)   (88.3, -1)   \n",
      "10   (120.8, 1)  (100.7, -1)  (134.8, 1)  (110.9, -1)   (73.6, -1)   \n",
      "11   (112.6, 1)   (134.9, 1)  (113.3, 1)  (106.5, -1)   (90.8, -1)   \n",
      "\n",
      "        Week 13  +   -  wins  losses  \n",
      "0    (110.5, 1)  9   4    10       4  \n",
      "1    (85.8, -1)  3  10     5       9  \n",
      "2    (112.7, 1)  7   6     7       7  \n",
      "3    (125.4, 1)  7   6     7       7  \n",
      "4    (97.8, -1)  5   8     7       7  \n",
      "5    (125.5, 1)  6   7     9       5  \n",
      "6    (171.7, 1)  9   4     5       9  \n",
      "7    (108.6, 1)  9   4     9       5  \n",
      "8    (88.3, -1)  6   7     8       6  \n",
      "9    (79.0, -1)  3  10     3      11  \n",
      "10  (104.8, -1)  7   6     7       7  \n",
      "11  (101.3, -1)  7   6     7       7  \n"
     ]
    }
   ],
   "source": [
    "df['wins']=wins\n",
    "df['losses']=losses\n",
    "print(df)"
   ]
  },
  {
   "cell_type": "code",
   "execution_count": 16,
   "id": "ce5956c9",
   "metadata": {},
   "outputs": [
    {
     "name": "stdout",
     "output_type": "stream",
     "text": [
      "                    Owner                             Team      Week 1  \\\n",
      "0              Tim harris                     Hos'er Daddy  (92.5, -1)   \n",
      "1            Gabe Pannell                    Los Cocineros  (95.9, -1)   \n",
      "2         Brandon Lohmann                    Purdy Commish  (132.6, 1)   \n",
      "3             Eric Harvey       xxx360NoScope420BlazeItxxx  (74.6, -1)   \n",
      "4            Edward Haven          Sailor Jupiter Fan Club  (83.0, -1)   \n",
      "5   Marco Aurelio Benites                     Fond O' Naps  (104.7, 1)   \n",
      "6         Geoffrey Harris                  Biz-Caj Tanktop  (121.1, 1)   \n",
      "7            Dennis Weber  The Tortured Welfare Department   (96.4, 1)   \n",
      "8               Tom Weber        San Francisco Cyber Plebz  (130.4, 1)   \n",
      "9           Raphael Dozzi                 USA TCupz Dozzer  (88.6, -1)   \n",
      "10       Andreas Panosyan                         LA Peezy  (85.1, -1)   \n",
      "11         Alex E Sheldon                      SF Sheldors  (115.3, 1)   \n",
      "\n",
      "         Week 2       Week 3      Week 4       Week 5      Week 6      Week 7  \\\n",
      "0    (117.2, 1)   (114.7, 1)  (63.0, -1)  (112.5, -1)  (110.0, 1)  (110.8, 1)   \n",
      "1    (76.0, -1)  (102.6, -1)  (123.4, 1)   (121.9, 1)  (88.0, -1)  (89.3, -1)   \n",
      "2    (75.4, -1)   (120.4, 1)  (107.6, 1)   (77.9, -1)  (99.8, -1)  (104.0, 1)   \n",
      "3    (125.1, 1)   (74.7, -1)  (89.3, -1)   (120.0, 1)  (91.5, -1)  (113.6, 1)   \n",
      "4    (129.3, 1)   (78.7, -1)  (71.9, -1)   (141.9, 1)  (96.8, -1)  (110.1, 1)   \n",
      "5    (76.3, -1)   (95.1, -1)  (95.3, -1)   (93.0, -1)  (142.5, 1)  (96.9, -1)   \n",
      "6   (102.3, -1)   (65.2, -1)  (101.2, 1)   (126.8, 1)  (109.5, 1)  (100.4, 1)   \n",
      "7    (139.8, 1)   (109.3, 1)  (85.2, -1)   (67.3, -1)  (48.9, -1)  (56.7, -1)   \n",
      "8    (133.0, 1)   (103.7, 1)  (120.3, 1)   (85.1, -1)  (130.0, 1)  (94.4, -1)   \n",
      "9    (115.8, 1)   (116.8, 1)  (98.8, -1)   (89.8, -1)  (95.4, -1)  (59.1, -1)   \n",
      "10   (89.0, -1)   (106.9, 1)  (108.5, 1)   (121.7, 1)  (107.7, 1)  (111.3, 1)   \n",
      "11  (100.7, -1)   (90.8, -1)  (116.0, 1)   (135.8, 1)  (139.2, 1)  (93.2, -1)   \n",
      "\n",
      "         Week 8  ...     Week 10      Week 11      Week 12      Week 13  +  \\\n",
      "0    (110.6, 1)  ...  (74.9, -1)   (127.6, 1)   (112.4, 1)   (110.5, 1)  9   \n",
      "1   (109.1, -1)  ...  (104.0, 1)   (90.8, -1)  (100.1, -1)   (85.8, -1)  3   \n",
      "2    (87.8, -1)  ...  (89.2, -1)   (126.6, 1)   (128.7, 1)   (112.7, 1)  7   \n",
      "3   (103.9, -1)  ...  (103.3, 1)   (112.5, 1)   (120.5, 1)   (125.4, 1)  7   \n",
      "4    (111.6, 1)  ...  (93.5, -1)   (115.6, 1)  (107.5, -1)   (97.8, -1)  5   \n",
      "5   (108.3, -1)  ...  (77.9, -1)   (139.2, 1)   (116.9, 1)   (125.5, 1)  6   \n",
      "6   (108.2, -1)  ...  (107.3, 1)   (75.8, -1)   (108.9, 1)   (171.7, 1)  9   \n",
      "7    (143.1, 1)  ...  (104.4, 1)   (114.5, 1)   (117.1, 1)   (108.6, 1)  9   \n",
      "8   (108.1, -1)  ...  (65.5, -1)   (88.9, -1)   (90.1, -1)   (88.3, -1)  6   \n",
      "9    (109.4, 1)  ...  (67.0, -1)   (70.9, -1)   (88.3, -1)   (79.0, -1)  3   \n",
      "10   (120.8, 1)  ...  (134.8, 1)  (110.9, -1)   (73.6, -1)  (104.8, -1)  7   \n",
      "11   (112.6, 1)  ...  (113.3, 1)  (106.5, -1)   (90.8, -1)  (101.3, -1)  7   \n",
      "\n",
      "     -  wins  losses  adj_wins  adj_losses  \n",
      "0    4    10       4        19           8  \n",
      "1   10     5       9         8          19  \n",
      "2    6     7       7        14          13  \n",
      "3    6     7       7        14          13  \n",
      "4    8     7       7        12          15  \n",
      "5    7     9       5        15          12  \n",
      "6    4     5       9        14          13  \n",
      "7    4     9       5        18           9  \n",
      "8    7     8       6        14          13  \n",
      "9   10     3      11         6          21  \n",
      "10   6     7       7        14          13  \n",
      "11   6     7       7        14          13  \n",
      "\n",
      "[12 rows x 21 columns]\n"
     ]
    }
   ],
   "source": [
    "df['adj_wins']=df['+'] + df['wins']\n",
    "df['adj_losses']=df['-'] + df['losses']\n",
    "print(df)\n",
    "df.to_excel('../data/processed/scores_with_handicap.xlsx')"
   ]
  },
  {
   "cell_type": "code",
   "execution_count": 17,
   "id": "1a20c908",
   "metadata": {},
   "outputs": [
    {
     "name": "stdout",
     "output_type": "stream",
     "text": [
      "Owner           Tim harris\n",
      "Team          Hos'er Daddy\n",
      "Week 1          (92.5, -1)\n",
      "Week 2          (117.2, 1)\n",
      "Week 3          (114.7, 1)\n",
      "Week 4          (63.0, -1)\n",
      "Week 5         (112.5, -1)\n",
      "Week 6          (110.0, 1)\n",
      "Week 7          (110.8, 1)\n",
      "Week 8          (110.6, 1)\n",
      "Week 9          (131.8, 1)\n",
      "Week 10         (74.9, -1)\n",
      "Week 11         (127.6, 1)\n",
      "Week 12         (112.4, 1)\n",
      "Week 13         (110.5, 1)\n",
      "+                        9\n",
      "-                        4\n",
      "wins                    10\n",
      "losses                   4\n",
      "adj_wins                19\n",
      "adj_losses               8\n",
      "Name: 0, dtype: object\n",
      "[92.5, 117.2, 114.7, 63.0, 112.5, 110.0, 110.8, 110.6, 131.8, 74.9, 127.6, 112.4, 110.5]\n"
     ]
    }
   ],
   "source": [
    "# A manual validation using Ho'ser Daddy's information\n",
    "print(df.loc[0])\n",
    "print(all_scores[0])"
   ]
  },
  {
   "cell_type": "code",
   "execution_count": 18,
   "id": "c8e2cbad",
   "metadata": {},
   "outputs": [
    {
     "name": "stdout",
     "output_type": "stream",
     "text": [
      "10\n",
      "4\n"
     ]
    }
   ],
   "source": [
    "print(teams2024[0].wins)\n",
    "print(teams2024[0].losses)"
   ]
  },
  {
   "cell_type": "code",
   "execution_count": 19,
   "id": "58938cd5",
   "metadata": {},
   "outputs": [
    {
     "name": "stdout",
     "output_type": "stream",
     "text": [
      "[(2, (132.6, 1)), (8, (130.4, 1)), (6, (121.1, 1)), (11, (115.3, 1)), (5, (104.7, 1)), (7, (96.4, 1)), (1, (95.9, -1)), (0, (92.5, -1)), (9, (88.6, -1)), (10, (85.1, -1)), (4, (83.0, -1)), (3, (74.6, -1))]\n"
     ]
    }
   ],
   "source": [
    "week1 = df['Week 1']\n",
    "week1_list = df['Week 1'].tolist()\n",
    "indexed_list = []\n",
    "\n",
    "for i in range(len(week1_list)):\n",
    "  indexed_list.append((i,week1_list[i]))\n",
    "\n",
    "indexed_list.sort(key=lambda x: x[1],reverse=True)\n",
    "print(indexed_list)\n"
   ]
  },
  {
   "cell_type": "code",
   "execution_count": 20,
   "id": "97c6e2fc",
   "metadata": {},
   "outputs": [
    {
     "name": "stdout",
     "output_type": "stream",
     "text": [
      "indexed_list [(2, (132.6, 1)), (8, (130.4, 1)), (6, (121.1, 1)), (11, (115.3, 1)), (5, (104.7, 1)), (7, (96.4, 1)), (1, (95.9, -1)), (0, (92.5, -1)), (9, (88.6, -1)), (10, (85.1, -1)), (4, (83.0, -1)), (3, (74.6, -1))]\n",
      "top_indices {2, 5, 6, 7, 8, 11}\n"
     ]
    }
   ],
   "source": [
    "cutoff = len(week1_list) // 2\n",
    "print('indexed_list',indexed_list)\n",
    "\n",
    "#Create a set and then check whether value for the week is in the set\n",
    "top_indices = {idx for idx, _ in indexed_list[:cutoff]}\n",
    "print('top_indices',top_indices)\n"
   ]
  },
  {
   "cell_type": "code",
   "execution_count": 21,
   "id": "6c2b7ee2",
   "metadata": {},
   "outputs": [
    {
     "name": "stdout",
     "output_type": "stream",
     "text": [
      "[((92.5, -1), -1), ((95.9, -1), -1), ((132.6, 1), 1), ((74.6, -1), -1), ((83.0, -1), -1), ((104.7, 1), 1), ((121.1, 1), 1), ((96.4, 1), 1), ((130.4, 1), 1), ((88.6, -1), -1), ((85.1, -1), -1), ((115.3, 1), 1)]\n"
     ]
    }
   ],
   "source": [
    "list_with_handicap = []\n",
    "for i in range(len(week1_list)):\n",
    "  if(i in top_indices):\n",
    "    list_with_handicap.append((week1_list[i],1))\n",
    "  else:\n",
    "    list_with_handicap.append((week1_list[i],-1))\n",
    "\n",
    "print(list_with_handicap)"
   ]
  },
  {
   "cell_type": "code",
   "execution_count": 22,
   "id": "eb1219e9",
   "metadata": {},
   "outputs": [
    {
     "name": "stdout",
     "output_type": "stream",
     "text": [
      "             team                              stat  result\n",
      "0    Hos'er Daddy  defensiveLessThan100YardsAllowed     0.0\n",
      "1    Hos'er Daddy     defensive100To199YardsAllowed     2.0\n",
      "2    Hos'er Daddy     defensive200To299YardsAllowed     6.0\n",
      "3    Hos'er Daddy                 passingTouchdowns    26.0\n",
      "4    Hos'er Daddy     defensive350To399YardsAllowed     1.0\n",
      "..            ...                               ...     ...\n",
      "523   SF Sheldors               receivingReceptions   301.0\n",
      "524   SF Sheldors      defensive28To34PointsAllowed     2.0\n",
      "525   SF Sheldors      defensive35To45PointsAllowed     2.0\n",
      "526   SF Sheldors      defensive45PlusPointsAllowed     0.0\n",
      "527   SF Sheldors              fumbleRecoveredForTD     0.0\n",
      "\n",
      "[528 rows x 3 columns]\n"
     ]
    }
   ],
   "source": [
    "teams2024 = league2024.teams\n",
    "# print(teams2024)\n",
    "# teams2024[0].stats\n",
    "\n",
    "data = {}\n",
    "data['team'] = []\n",
    "data['stat'] = []\n",
    "data['result'] = []\n",
    "\n",
    "for i in range(len(teams2024)):\n",
    "  current_team = teams2024[i]\n",
    "\n",
    "  for key in current_team.stats:\n",
    "    data['team'].append(current_team.team_name)\n",
    "    if(key == '5'):\n",
    "      data['stat'].append('passingYards')\n",
    "      data['result'].append(current_team.stats[key])\n",
    "    elif(key == '198'):\n",
    "      data['stat'].append('defensiveFumblesRecovered')\n",
    "      data['result'].append(current_team.stats[key])\n",
    "    else:\n",
    "      data['stat'].append(key)\n",
    "      data['result'].append(current_team.stats[key])\n",
    "\n",
    "df_stats = pd.DataFrame(data)\n",
    "print(df_stats)\n",
    "\n",
    "df_stats.to_excel('../data/processed/stats_2024.xlsx')"
   ]
  },
  {
   "cell_type": "code",
   "execution_count": 23,
   "id": "811bab9f",
   "metadata": {},
   "outputs": [],
   "source": [
    "teams2024 = league2024.teams\n",
    "# print(teams2024)\n",
    "# teams2024[0].stats\n",
    "\n",
    "data = {}\n",
    "data['stat'] = []\n",
    "data['result'] = []\n",
    "\n",
    "writer = pd.ExcelWriter(\"../data/processed/stats_by_team_2024.xlsx\", engine=\"openpyxl\")\n",
    "\n",
    "for i in range(len(teams2024)):\n",
    "  data = {}\n",
    "  data['stat'] = []\n",
    "  data['result'] = []\n",
    "  current_team = teams2024[i]\n",
    "\n",
    "  for key in current_team.stats:\n",
    "    if(key == '5'):\n",
    "      data['stat'].append('passingYards')\n",
    "      data['result'].append(current_team.stats[key])\n",
    "    elif(key == '198'):\n",
    "      data['stat'].append('defensiveFumblesRecovered')\n",
    "      data['result'].append(current_team.stats[key])\n",
    "    else:\n",
    "      data['stat'].append(key)\n",
    "      data['result'].append(current_team.stats[key])\n",
    "  \n",
    "  df_stats = pd.DataFrame(data)\n",
    "  df_stats.to_excel(writer,sheet_name=current_team.team_name,index=False)\n",
    "\n",
    "writer.close()\n"
   ]
  },
  {
   "cell_type": "code",
   "execution_count": 24,
   "id": "642e5ce6",
   "metadata": {},
   "outputs": [],
   "source": [
    "league2025 = League(league_id=int(os.getenv(\"LEAGUE_ID\")), year=2025, espn_s2=os.getenv(\"ESPN_S2\"), swid=os.getenv(\"SWID\"))"
   ]
  },
  {
   "cell_type": "code",
   "execution_count": 46,
   "id": "bfd8c908",
   "metadata": {},
   "outputs": [
    {
     "name": "stdout",
     "output_type": "stream",
     "text": [
      "[('22.95', Team(Purdy Commish)), ('22.35', Team(San Francisco Cyber Plebz)), ('20.15', Team(Biz-Caj Tanktop)), ('19.00', Team(SF Sheldors)), ('17.00', Team(Fond O' Naps)), ('13.65', Team(Sailor Jupiter Fan Club)), ('13.30', Team(Los Cocineros)), ('13.20', Team(Hos'er Daddy)), ('13.20', Team(The Tortured Welfare Department)), ('11.15', Team(USA TCupz Dozzer)), ('10.70', Team(xxx360NoScope420BlazeItxxx)), ('10.40', Team(LA Peezy))]\n",
      "Tim harris\n",
      "[\"Hos'er Daddy\", 'Los Cocineros', 'Purdy Commish', 'xxx360NoScope420BlazeItxxx', 'Sailor Jupiter Fan Club', \"Fond O' Naps\", 'Biz-Caj Tanktop', 'The Tortured Welfare Department', 'San Francisco Cyber Plebz', 'USA TCupz Dozzer', 'LA Peezy', 'SF Sheldors']\n"
     ]
    }
   ],
   "source": [
    "print(league2024.power_rankings(1))\n",
    "print(league2024.teams[0].owners[0]['firstName'] + ' ' + league2024.teams[0].owners[0]['lastName'])\n",
    "print(teams)"
   ]
  },
  {
   "cell_type": "code",
   "execution_count": null,
   "id": "31bc16ec",
   "metadata": {},
   "outputs": [
    {
     "name": "stdout",
     "output_type": "stream",
     "text": [
      "{'week': 1, 'year': 2024}\n",
      "Hos'er Daddy\n"
     ]
    }
   ],
   "source": [
    "week = 1\n",
    "weekly_scoreboard = dict()\n",
    "weekly_scoreboard['week'] = week\n",
    "weekly_scoreboard['year'] = league.year\n",
    "print(weekly_scoreboard)\n",
    "\n",
    "scoreboard_by_week = league.scoreboard(week)\n",
    "print(scoreboard_by_week[0].home_team.team_name)\n",
    "\n",
    "#home_team\n",
    "#home_score\n",
    "#away_team\n",
    "#away_score\n",
    "#opposing_team\n",
    "#is_home_team (bool)\n",
    "\n",
    "# for scoreboard in scoreboard_by_week:\n"
   ]
  },
  {
   "cell_type": "code",
   "execution_count": 56,
   "id": "433cf084",
   "metadata": {},
   "outputs": [
    {
     "data": {
      "text/plain": [
       "[('0.00', Team(Hos'er Daddy)),\n",
       " ('0.00', Team(Los Cocineros)),\n",
       " ('0.00', Team(Purdy Commish)),\n",
       " ('0.00', Team(xxx360NoScope420BlazeItxxx)),\n",
       " ('0.00', Team(Cloe From 4th and Long)),\n",
       " ('0.00', Team(Fond O' Naps)),\n",
       " ('0.00', Team(Biz-Caj Tanktop)),\n",
       " ('0.00', Team(Blitz Me Like You Missed Me)),\n",
       " ('0.00', Team(San Francisco Cyber Plebz)),\n",
       " ('0.00', Team(USA TCupz Dozzer)),\n",
       " ('0.00', Team(LA Peezy)),\n",
       " ('0.00', Team(SF Sheldors))]"
      ]
     },
     "execution_count": 56,
     "metadata": {},
     "output_type": "execute_result"
    }
   ],
   "source": [
    "scoreboard_2024=league2024.scoreboard()\n",
    "\n",
    "# for team in teams2024:\n",
    "#   print(team.streak_type)\n",
    "#   print(team.streak_length)\n",
    "\n",
    "league2025.power_rankings(2)"
   ]
  }
 ],
 "metadata": {
  "kernelspec": {
   "display_name": "Python (espn_fantasy)",
   "language": "python",
   "name": "espn_fantasy"
  },
  "language_info": {
   "codemirror_mode": {
    "name": "ipython",
    "version": 3
   },
   "file_extension": ".py",
   "mimetype": "text/x-python",
   "name": "python",
   "nbconvert_exporter": "python",
   "pygments_lexer": "ipython3",
   "version": "3.13.7"
  }
 },
 "nbformat": 4,
 "nbformat_minor": 5
}

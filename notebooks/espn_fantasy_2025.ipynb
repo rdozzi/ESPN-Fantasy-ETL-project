{
 "cells": [
  {
   "cell_type": "code",
   "execution_count": 3,
   "id": "830bc9ee",
   "metadata": {},
   "outputs": [
    {
     "data": {
      "text/plain": [
       "True"
      ]
     },
     "execution_count": 3,
     "metadata": {},
     "output_type": "execute_result"
    }
   ],
   "source": [
    "import pandas as pd\n",
    "import espn_api\n",
    "import os\n",
    "from dotenv import load_dotenv\n",
    "from espn_api.football import League\n",
    "\n",
    "\n",
    "load_dotenv()\n",
    "\n"
   ]
  },
  {
   "cell_type": "code",
   "execution_count": 4,
   "id": "df7109a8",
   "metadata": {},
   "outputs": [
    {
     "name": "stdout",
     "output_type": "stream",
     "text": [
      "582924\n",
      "2025\n",
      "AEA80I6JzZ%2F7RCxCSHl5WLd%2Bsvc7Xhs27An2hd4%2F1SSpMaMecJ6pq65wMTxW4AkykUz3MYAiBUBPM4IeLvlCfw4XBVJNSF96ilC4QnmIfLz9kJqsVNKNsqcOKR%2BdF0yjOdUWrmrT5EYJOxiho21V7NhB5qKxo5hyfagAQnEVP6GwZwbi9plSPWSuhxFEy%2FFm6eL1VgVnqTl1riAjrWyRo1zTBzGfrjgR1Oh%2B%2FEzHp%2FRAFHmy%2F0pAbsBzZtNU1DfWX%2FslmvtSRyg0yU8KLeOnuafM\n",
      "{8771E5F0-2C1B-423A-AC82-A42344F84FDB}\n"
     ]
    }
   ],
   "source": [
    "print(os.getenv(\"LEAGUE_ID\"))\n",
    "print(2025)\n",
    "print(os.getenv(\"ESPN_S2\"))\n",
    "print(os.getenv(\"SWID\"))"
   ]
  },
  {
   "cell_type": "code",
   "execution_count": 5,
   "id": "384789d0",
   "metadata": {},
   "outputs": [],
   "source": [
    "league2025 = League(league_id=int(os.getenv(\"LEAGUE_ID\")), year=2025, espn_s2=os.getenv(\"ESPN_S2\"), swid=os.getenv(\"SWID\"))\n",
    "league2025.refresh()"
   ]
  },
  {
   "cell_type": "code",
   "execution_count": 8,
   "id": "433cf084",
   "metadata": {},
   "outputs": [
    {
     "data": {
      "text/plain": [
       "[('0.00', Team(Hos'er Daddy)),\n",
       " ('0.00', Team(Los Cocineros)),\n",
       " ('0.00', Team(Cooper Kuck)),\n",
       " ('0.00', Team(xxx360NoScope420BlazeItxxx)),\n",
       " ('0.00', Team(Cloe From 4th and Long)),\n",
       " ('0.00', Team(Fond O' Naps)),\n",
       " ('0.00', Team(Biz-Caj Tanktop)),\n",
       " ('0.00', Team(Blitz Me Like You Missed Me)),\n",
       " ('0.00', Team(San Francisco Cyber Plebz)),\n",
       " ('0.00', Team(USA TCupz Dozzer)),\n",
       " ('0.00', Team(LA Peezy)),\n",
       " ('0.00', Team(SF Sheldors))]"
      ]
     },
     "execution_count": 8,
     "metadata": {},
     "output_type": "execute_result"
    }
   ],
   "source": [
    "team = league2025.teams[0]\n",
    "league2025.power_rankings()"
   ]
  }
 ],
 "metadata": {
  "kernelspec": {
   "display_name": "Python (espn_fantasy)",
   "language": "python",
   "name": "espn_fantasy"
  },
  "language_info": {
   "codemirror_mode": {
    "name": "ipython",
    "version": 3
   },
   "file_extension": ".py",
   "mimetype": "text/x-python",
   "name": "python",
   "nbconvert_exporter": "python",
   "pygments_lexer": "ipython3",
   "version": "3.13.7"
  }
 },
 "nbformat": 4,
 "nbformat_minor": 5
}
